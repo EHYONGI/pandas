{
 "cells": [
  {
   "cell_type": "code",
   "execution_count": null,
   "id": "82f634c1-a793-47b9-81ed-d9ced7aa30d8",
   "metadata": {},
   "outputs": [],
   "source": [
    "a = [1, 2, 3]\n",
    "a2 = [\n",
    "    [1, 2, 3], \n",
    "    [4, 5, 6], \n",
    "    [7, 8, 9]\n",
    "]\n",
    "# a3 => 3차원"
   ]
  },
  {
   "cell_type": "code",
   "execution_count": 2,
   "id": "83c1a6cb-4d0f-470d-b9ad-7df4b16e1783",
   "metadata": {},
   "outputs": [],
   "source": [
    "import numpy as np"
   ]
  },
  {
   "cell_type": "code",
   "execution_count": null,
   "id": "47ccf1bc-28a6-45ba-8d48-d5ccb0918592",
   "metadata": {},
   "outputs": [],
   "source": [
    "pip list"
   ]
  },
  {
   "cell_type": "code",
   "execution_count": 5,
   "id": "8c17809d-d0ad-4471-9200-9f9c5795902c",
   "metadata": {},
   "outputs": [
    {
     "name": "stdout",
     "output_type": "stream",
     "text": [
      "Note: you may need to restart the kernel to use updated packages.Collecting numpy\n",
      "  Using cached numpy-2.0.0-cp312-cp312-win_amd64.whl.metadata (60 kB)\n",
      "Using cached numpy-2.0.0-cp312-cp312-win_amd64.whl (16.2 MB)\n",
      "Installing collected packages: numpy\n",
      "Successfully installed numpy-2.0.0\n",
      "\n"
     ]
    },
    {
     "name": "stderr",
     "output_type": "stream",
     "text": [
      "\n",
      "[notice] A new release of pip is available: 24.0 -> 24.1.1\n",
      "[notice] To update, run: python.exe -m pip install --upgrade pip\n"
     ]
    }
   ],
   "source": [
    "pip install numpy"
   ]
  },
  {
   "cell_type": "code",
   "execution_count": 8,
   "id": "ad61aea3-84f4-41a4-b562-5d25ef9ae9b3",
   "metadata": {},
   "outputs": [],
   "source": [
    "my_arr = np.arange(1000000)\n",
    "my_list = list(range(1000000))"
   ]
  },
  {
   "cell_type": "code",
   "execution_count": 11,
   "id": "2f784fe7-713d-42a4-821f-4b2a61bc1bf9",
   "metadata": {},
   "outputs": [
    {
     "name": "stdout",
     "output_type": "stream",
     "text": [
      "2.14 ms ± 133 μs per loop (mean ± std. dev. of 7 runs, 100 loops each)\n",
      "51 ms ± 1.6 ms per loop (mean ± std. dev. of 7 runs, 10 loops each)\n"
     ]
    }
   ],
   "source": [
    "%timeit my_arr2 = my_arr * 2\n",
    "%timeit my_list2 = [x * 2 for x in my_list]"
   ]
  },
  {
   "cell_type": "code",
   "execution_count": 14,
   "id": "711db9d4-8b80-4a8c-803b-40b5cca86d4d",
   "metadata": {},
   "outputs": [
    {
     "name": "stdout",
     "output_type": "stream",
     "text": [
      "[[   5.     1.1   -5. ]\n",
      " [ 123.  -123.     0. ]]\n"
     ]
    }
   ],
   "source": [
    "a = [\n",
    "    [5, 1.1, -5],\n",
    "    [123, -123, 0]\n",
    "]\n",
    "data = np.array(a)\n",
    "print(data)"
   ]
  },
  {
   "cell_type": "code",
   "execution_count": 17,
   "id": "46b8b3f3-7d3c-4005-8652-9b6ba9738897",
   "metadata": {},
   "outputs": [
    {
     "name": "stdout",
     "output_type": "stream",
     "text": [
      "[[   50.    11.   -50.]\n",
      " [ 1230. -1230.     0.]]\n"
     ]
    }
   ],
   "source": [
    "print(data * 10)"
   ]
  },
  {
   "cell_type": "code",
   "execution_count": 19,
   "id": "9b77ce0b-30d2-42d2-9309-0988bb5872e9",
   "metadata": {},
   "outputs": [
    {
     "name": "stdout",
     "output_type": "stream",
     "text": [
      "[[  10.     2.2  -10. ]\n",
      " [ 246.  -246.     0. ]]\n"
     ]
    }
   ],
   "source": [
    "print(data + data)\n",
    "# 2행 3열 + 2행 3열"
   ]
  },
  {
   "cell_type": "code",
   "execution_count": 23,
   "id": "4731e46d-3b06-47e0-9390-c0e9266afeb3",
   "metadata": {},
   "outputs": [
    {
     "name": "stdout",
     "output_type": "stream",
     "text": [
      "(2, 3)\n",
      "float64\n"
     ]
    }
   ],
   "source": [
    "print(data.shape)\n",
    "# 2행 3열\n",
    "print(data.dtype)\n",
    "# 비트수 뒤에 붙음 - 2진수 칸 총 64칸"
   ]
  },
  {
   "cell_type": "markdown",
   "id": "eb89ccbd-8085-44e2-8bd3-be108d3f8ddb",
   "metadata": {},
   "source": [
    "## 1.1 ndarray 생성"
   ]
  },
  {
   "cell_type": "code",
   "execution_count": 7,
   "id": "d7215b70-c7a9-43bd-ac00-597e267f5ab7",
   "metadata": {},
   "outputs": [
    {
     "name": "stdout",
     "output_type": "stream",
     "text": [
      "[4.  1.  2.  6.  3.1]\n"
     ]
    }
   ],
   "source": [
    "my_list = [4, 1, 2, 6, 3.1]\n",
    "arr = np.array(my_list)\n",
    "print(arr)"
   ]
  },
  {
   "cell_type": "code",
   "execution_count": 6,
   "id": "da8e1217-7185-4e70-8cd2-49adea2344c0",
   "metadata": {},
   "outputs": [
    {
     "name": "stdout",
     "output_type": "stream",
     "text": [
      "[[1 2 3 4]\n",
      " [5 6 7 8]]\n"
     ]
    }
   ],
   "source": [
    "my_list2 = [[1, 2, 3, 4], [5, 6, 7, 8]]\n",
    "arr2 = np.array(my_list2)\n",
    "print(arr2)"
   ]
  },
  {
   "cell_type": "code",
   "execution_count": 9,
   "id": "18e1cf8e-5af5-4605-ac3f-f077fc9cdcc9",
   "metadata": {},
   "outputs": [
    {
     "name": "stdout",
     "output_type": "stream",
     "text": [
      "1\n",
      "2\n"
     ]
    }
   ],
   "source": [
    "print(arr.ndim)\n",
    "print(arr2.ndim)"
   ]
  },
  {
   "cell_type": "code",
   "execution_count": 12,
   "id": "c1dbdbb6-d98a-4808-b862-de4f34ee7367",
   "metadata": {},
   "outputs": [
    {
     "name": "stdout",
     "output_type": "stream",
     "text": [
      "(5,)\n",
      "(2, 4)\n"
     ]
    }
   ],
   "source": [
    "print(arr.shape)\n",
    "print(arr2.shape)"
   ]
  },
  {
   "cell_type": "code",
   "execution_count": 14,
   "id": "b498118f-f8ed-4e4c-a8d1-ac2c179b1866",
   "metadata": {},
   "outputs": [
    {
     "name": "stdout",
     "output_type": "stream",
     "text": [
      "[0. 0. 0. 0. 0. 0. 0. 0. 0. 0.]\n",
      "[[0. 0. 0. 0. 0.]\n",
      " [0. 0. 0. 0. 0.]\n",
      " [0. 0. 0. 0. 0.]\n",
      " [0. 0. 0. 0. 0.]\n",
      " [0. 0. 0. 0. 0.]]\n",
      "[[[6.23042070e-307 1.86918699e-306 1.69121096e-306 9.45694586e-308]\n",
      "  [9.34598925e-307 1.37962456e-306 1.29061074e-306 7.56601165e-307]\n",
      "  [1.69118787e-306 1.33511290e-306 1.11261027e-306 1.11261502e-306]]\n",
      "\n",
      " [[1.42410839e-306 7.56597770e-307 6.23059726e-307 1.42419530e-306]\n",
      "  [1.11261027e-306 1.69118515e-306 8.90100844e-307 1.60221072e-306]\n",
      "  [1.69120145e-306 1.42419530e-306 2.22522596e-306 2.56761491e-312]]]\n"
     ]
    }
   ],
   "source": [
    "print(np.zeros(10))\n",
    "print(np.zeros((5, 5)))\n",
    "print(np.empty((2, 3, 4)))"
   ]
  },
  {
   "cell_type": "code",
   "execution_count": 15,
   "id": "e945bf57-d8fc-4f04-91d1-2f37ffd80139",
   "metadata": {},
   "outputs": [
    {
     "name": "stdout",
     "output_type": "stream",
     "text": [
      "[ 0  1  2  3  4  5  6  7  8  9 10 11]\n"
     ]
    }
   ],
   "source": [
    "print(np.arange(12))"
   ]
  },
  {
   "cell_type": "markdown",
   "id": "f7a8db96-6878-4168-afc8-44c07174c55f",
   "metadata": {},
   "source": [
    "## 1.2 자료형"
   ]
  },
  {
   "cell_type": "code",
   "execution_count": 18,
   "id": "38328017-96e9-47df-a1c4-6f56cfb0996c",
   "metadata": {},
   "outputs": [
    {
     "name": "stdout",
     "output_type": "stream",
     "text": [
      "float64\n",
      "int32\n"
     ]
    }
   ],
   "source": [
    "arr1 = np.array([1, 2, 3], dtype=np.float64)\n",
    "arr2 = np.array([1, 2, 3], dtype=np.int32)\n",
    "\n",
    "print(arr1.dtype)\n",
    "print(arr2.dtype)"
   ]
  },
  {
   "cell_type": "code",
   "execution_count": 20,
   "id": "6648333c-3c8b-440c-b692-b2d8f391d0c9",
   "metadata": {},
   "outputs": [
    {
     "name": "stdout",
     "output_type": "stream",
     "text": [
      "[1 2 3 4 5]\n",
      "[1. 2. 3. 4. 5.]\n",
      "float32\n"
     ]
    }
   ],
   "source": [
    "arr = np.array([1, 2, 3, 4, 5])\n",
    "print(arr)\n",
    "float_arr = arr.astype(np.float32)\n",
    "print(float_arr)\n",
    "print(float_arr.dtype)"
   ]
  },
  {
   "cell_type": "code",
   "execution_count": 22,
   "id": "914f6682-4787-4b61-8969-04b21d131791",
   "metadata": {},
   "outputs": [
    {
     "name": "stdout",
     "output_type": "stream",
     "text": [
      "[ 1  2  3 -1 -2 -3]\n"
     ]
    }
   ],
   "source": [
    "arr = np.array([1.1, 2.2, 3.3, -1.1, -2.2, -3.3])\n",
    "result = arr.astype(np.int32)\n",
    "print(result)"
   ]
  },
  {
   "cell_type": "code",
   "execution_count": 23,
   "id": "848d66dc-e620-4274-bbb9-1196d5e2eedb",
   "metadata": {},
   "outputs": [
    {
     "name": "stdout",
     "output_type": "stream",
     "text": [
      "[12 34 56]\n"
     ]
    }
   ],
   "source": [
    "result = np.array(['12', '34', '56'], dtype=np.int32)\n",
    "print(result)"
   ]
  },
  {
   "cell_type": "markdown",
   "id": "f8851dbe-4f4a-4807-938e-bb12fe608ae0",
   "metadata": {},
   "source": [
    "## 1.3 연산"
   ]
  },
  {
   "cell_type": "code",
   "execution_count": 25,
   "id": "09b161b2-b29b-460e-8506-99e69d875f78",
   "metadata": {},
   "outputs": [
    {
     "name": "stdout",
     "output_type": "stream",
     "text": [
      "[[1 2 3]\n",
      " [4 5 6]]\n"
     ]
    }
   ],
   "source": [
    "a = [\n",
    "    [1, 2, 3],\n",
    "    [4, 5, 6]\n",
    "]\n",
    "arr = np.array(a)\n",
    "print(arr)"
   ]
  },
  {
   "cell_type": "code",
   "execution_count": 27,
   "id": "0ee0da7e-edd6-4c70-a7b6-fecce324f32a",
   "metadata": {},
   "outputs": [
    {
     "name": "stdout",
     "output_type": "stream",
     "text": [
      "[[ 2  4  6]\n",
      " [ 8 10 12]]\n",
      "[[0 0 0]\n",
      " [0 0 0]]\n"
     ]
    }
   ],
   "source": [
    "print(arr + arr)\n",
    "print(arr - arr)"
   ]
  },
  {
   "cell_type": "code",
   "execution_count": 32,
   "id": "1676b25b-6e32-4347-b539-ec795946dacc",
   "metadata": {},
   "outputs": [
    {
     "name": "stdout",
     "output_type": "stream",
     "text": [
      "[[0.1 0.2 0.3]\n",
      " [0.4 0.5 0.6]]\n",
      "[[ 1  4  9]\n",
      " [16 25 36]]\n"
     ]
    }
   ],
   "source": [
    "print(arr / 10)\n",
    "print(arr ** 2)"
   ]
  },
  {
   "cell_type": "code",
   "execution_count": 35,
   "id": "887d5c35-d035-4385-891b-6c935b570856",
   "metadata": {},
   "outputs": [
    {
     "name": "stdout",
     "output_type": "stream",
     "text": [
      "[[1 2 3]\n",
      " [4 5 6]]\n",
      "[[3 2 1]\n",
      " [6 5 4]]\n",
      "[[False False  True]\n",
      " [False False  True]]\n"
     ]
    }
   ],
   "source": [
    "b = [\n",
    "    [3, 2, 1],\n",
    "    [6, 5, 4]\n",
    "]\n",
    "arr2 = np.array(b)\n",
    "\n",
    "print(arr)\n",
    "print(arr2)\n",
    "print(arr > arr2)"
   ]
  },
  {
   "cell_type": "markdown",
   "id": "38e904f5-1015-498e-a30c-76339a324326",
   "metadata": {},
   "source": [
    "## 1.4 인덱싱, 슬라이싱"
   ]
  },
  {
   "cell_type": "code",
   "execution_count": 38,
   "id": "68f37fef-83ef-4db4-acdb-335cb8cd5579",
   "metadata": {},
   "outputs": [
    {
     "name": "stdout",
     "output_type": "stream",
     "text": [
      "[0 1 2 3 4 5 6 7 8 9]\n",
      "5\n",
      "[3 4 5]\n",
      "[ 0  1  2 99 99 99  6  7  8  9]\n"
     ]
    }
   ],
   "source": [
    "arr = np.arange(10)\n",
    "print(arr)\n",
    "print(arr[5])\n",
    "print(arr[3:6])\n",
    "\n",
    "arr[3:6] = 99\n",
    "print(arr)"
   ]
  },
  {
   "cell_type": "code",
   "execution_count": 41,
   "id": "1122a914-f5ea-407f-a574-8012a906cc7f",
   "metadata": {},
   "outputs": [
    {
     "name": "stdout",
     "output_type": "stream",
     "text": [
      "[99 99 99]\n"
     ]
    }
   ],
   "source": [
    "slice_arr = arr[3:6]\n",
    "print(slice_arr)"
   ]
  },
  {
   "cell_type": "code",
   "execution_count": 42,
   "id": "5c7098ff-70c9-4feb-86e6-c86631fd6c86",
   "metadata": {},
   "outputs": [
    {
     "name": "stdout",
     "output_type": "stream",
     "text": [
      "[99 55 99]\n",
      "[ 0  1  2 99 55 99  6  7  8  9]\n"
     ]
    }
   ],
   "source": [
    "slice_arr[1] = 55\n",
    "print(slice_arr)\n",
    "print(arr)"
   ]
  },
  {
   "cell_type": "code",
   "execution_count": 8,
   "id": "971c5944-c4c7-4a9e-a079-a66ac0eb5adc",
   "metadata": {},
   "outputs": [],
   "source": [
    "a = [\n",
    "    [1, 2, 3],\n",
    "    [4, 5, 6]\n",
    "]\n",
    "arr = np.array(a)"
   ]
  },
  {
   "cell_type": "code",
   "execution_count": 9,
   "id": "1fe85272-8077-40bd-890b-4bccf6732d73",
   "metadata": {},
   "outputs": [
    {
     "name": "stdout",
     "output_type": "stream",
     "text": [
      "5\n",
      "5\n"
     ]
    }
   ],
   "source": [
    "print(arr[1][1])\n",
    "print(arr[1, 1])"
   ]
  },
  {
   "cell_type": "code",
   "execution_count": 11,
   "id": "ada8ae41-e1b1-400b-b110-c3f35a92e75a",
   "metadata": {},
   "outputs": [
    {
     "name": "stdout",
     "output_type": "stream",
     "text": [
      "[[[ 1  2  3]\n",
      "  [ 4  5  6]]\n",
      "\n",
      " [[ 7  8  9]\n",
      "  [10 11 12]]]\n"
     ]
    }
   ],
   "source": [
    "a = [\n",
    "    [\n",
    "        [1, 2, 3],\n",
    "        [4, 5, 6]\n",
    "        \n",
    "    ],\n",
    "    [\n",
    "        \n",
    "        [7, 8, 9],\n",
    "        [10, 11, 12]\n",
    "        \n",
    "    ]\n",
    "]\n",
    "arr = np.array(a)\n",
    "print(arr)"
   ]
  },
  {
   "cell_type": "code",
   "execution_count": 12,
   "id": "ac8580c2-5c74-4108-ac7d-9cfce61cc917",
   "metadata": {},
   "outputs": [
    {
     "name": "stdout",
     "output_type": "stream",
     "text": [
      "[[1 2 3]\n",
      " [4 5 6]]\n"
     ]
    }
   ],
   "source": [
    "print(arr[0])"
   ]
  },
  {
   "cell_type": "code",
   "execution_count": 14,
   "id": "20cf2293-d3cf-4031-bd73-e153e969e653",
   "metadata": {},
   "outputs": [
    {
     "name": "stdout",
     "output_type": "stream",
     "text": [
      "1\n",
      "1\n"
     ]
    }
   ],
   "source": [
    "print(arr[0][0][0])\n",
    "print(arr[0, 0, 0])"
   ]
  },
  {
   "cell_type": "code",
   "execution_count": 17,
   "id": "135a2de2-ba58-4d3a-8a85-0f301ed31f10",
   "metadata": {},
   "outputs": [
    {
     "name": "stdout",
     "output_type": "stream",
     "text": [
      "[1 2 3 4 5 6 7 8 9]\n",
      "[1 2]\n"
     ]
    }
   ],
   "source": [
    "arr = np.arange(10)\n",
    "print(arr[1:]) # 1차원\n",
    "\n",
    "print(arr[1:3])"
   ]
  },
  {
   "cell_type": "code",
   "execution_count": 18,
   "id": "b7955ee0-9415-40eb-a32f-8b417e7a35af",
   "metadata": {},
   "outputs": [
    {
     "data": {
      "text/plain": [
       "array([[0, 1, 2],\n",
       "       [3, 4, 5],\n",
       "       [6, 7, 8]])"
      ]
     },
     "execution_count": 18,
     "metadata": {},
     "output_type": "execute_result"
    }
   ],
   "source": [
    "np.arange(9).reshape(3, 3)"
   ]
  },
  {
   "cell_type": "code",
   "execution_count": 19,
   "id": "851dee2f-7c26-4238-9ac0-daa6df83849c",
   "metadata": {},
   "outputs": [
    {
     "data": {
      "text/plain": [
       "array([1, 2, 3, 4, 5, 6, 7, 8, 9])"
      ]
     },
     "execution_count": 19,
     "metadata": {},
     "output_type": "execute_result"
    }
   ],
   "source": [
    "arr[1:]"
   ]
  },
  {
   "cell_type": "code",
   "execution_count": 20,
   "id": "ab9d6f87-24df-478b-b404-127051526394",
   "metadata": {},
   "outputs": [
    {
     "data": {
      "text/plain": [
       "array([[0, 1, 2],\n",
       "       [3, 4, 5]])"
      ]
     },
     "execution_count": 20,
     "metadata": {},
     "output_type": "execute_result"
    }
   ],
   "source": [
    "arr2d = np.arange(9).reshape(3, 3)\n",
    "arr2d[:2]"
   ]
  },
  {
   "cell_type": "code",
   "execution_count": 22,
   "id": "170b0135-9743-4b70-b2fe-61b6564fe103",
   "metadata": {},
   "outputs": [
    {
     "name": "stdout",
     "output_type": "stream",
     "text": [
      "[[0 1 2]\n",
      " [3 4 5]\n",
      " [6 7 8]]\n"
     ]
    },
    {
     "data": {
      "text/plain": [
       "array([[1, 2],\n",
       "       [4, 5]])"
      ]
     },
     "execution_count": 22,
     "metadata": {},
     "output_type": "execute_result"
    }
   ],
   "source": [
    "print(arr2d)\n",
    "arr2d[:2, 1:]"
   ]
  },
  {
   "cell_type": "code",
   "execution_count": 23,
   "id": "1a7d0c07-32cd-4d2b-847d-40699726adbb",
   "metadata": {},
   "outputs": [
    {
     "data": {
      "text/plain": [
       "array([[0],\n",
       "       [3],\n",
       "       [6]])"
      ]
     },
     "execution_count": 23,
     "metadata": {},
     "output_type": "execute_result"
    }
   ],
   "source": [
    "arr2d[:, :1]"
   ]
  },
  {
   "cell_type": "markdown",
   "id": "4692d35a-5dc5-49e7-a995-cf533bcc89ae",
   "metadata": {},
   "source": [
    "# bool 값으로 선택"
   ]
  },
  {
   "cell_type": "code",
   "execution_count": 27,
   "id": "58edd7e1-06df-4d15-89fa-bf7a6fdc30ed",
   "metadata": {},
   "outputs": [],
   "source": [
    "names = ['hong', 'kim', 'park', 'kim']\n",
    "scores = [\n",
    "    ['수학', 70],\n",
    "    ['영어', 80],\n",
    "    ['수학', 100],\n",
    "    ['수학', 90]\n",
    "]"
   ]
  },
  {
   "cell_type": "code",
   "execution_count": 28,
   "id": "b6cdcfe2-c00a-4814-9501-26684f204aef",
   "metadata": {},
   "outputs": [],
   "source": [
    "names_arr = np.array(name)\n",
    "scores_arr = np.array(scores)"
   ]
  },
  {
   "cell_type": "code",
   "execution_count": 29,
   "id": "ae935acf-b61e-4e26-bb4f-9e52cf7f9ce7",
   "metadata": {},
   "outputs": [
    {
     "name": "stdout",
     "output_type": "stream",
     "text": [
      "['hong' 'kim' 'park' 'kim']\n",
      "[['수학' '70']\n",
      " ['영어' '80']\n",
      " ['수학' '100']\n",
      " ['수학' '90']]\n"
     ]
    }
   ],
   "source": [
    "print(names_arr)\n",
    "print(scores_arr)"
   ]
  },
  {
   "cell_type": "code",
   "execution_count": 30,
   "id": "9ae18be4-10fd-4aca-8e8d-c16279218569",
   "metadata": {},
   "outputs": [
    {
     "data": {
      "text/plain": [
       "array([False, False,  True, False])"
      ]
     },
     "execution_count": 30,
     "metadata": {},
     "output_type": "execute_result"
    }
   ],
   "source": [
    "names_arr == 'park'"
   ]
  },
  {
   "cell_type": "code",
   "execution_count": 31,
   "id": "4dc6f02d-65aa-426f-96ca-7804dde018ec",
   "metadata": {},
   "outputs": [
    {
     "data": {
      "text/plain": [
       "array([['수학', '100']], dtype='<U21')"
      ]
     },
     "execution_count": 31,
     "metadata": {},
     "output_type": "execute_result"
    }
   ],
   "source": [
    "scores_arr[names_arr == 'park']"
   ]
  },
  {
   "cell_type": "code",
   "execution_count": 39,
   "id": "83fc0a31-2988-4111-bf84-ba8c5d9cf226",
   "metadata": {
    "scrolled": true
   },
   "outputs": [
    {
     "data": {
      "text/plain": [
       "array([['80'],\n",
       "       ['90']], dtype='<U21')"
      ]
     },
     "execution_count": 39,
     "metadata": {},
     "output_type": "execute_result"
    }
   ],
   "source": [
    "scores_arr[names_arr == 'kim', 1:]"
   ]
  },
  {
   "cell_type": "code",
   "execution_count": 40,
   "id": "95b4e465-3972-4733-a261-8b2389d00ce1",
   "metadata": {},
   "outputs": [
    {
     "data": {
      "text/plain": [
       "array(['영어', '수학'], dtype='<U21')"
      ]
     },
     "execution_count": 40,
     "metadata": {},
     "output_type": "execute_result"
    }
   ],
   "source": [
    "scores_arr[names_arr == 'kim', 0]"
   ]
  },
  {
   "cell_type": "code",
   "execution_count": 41,
   "id": "a27919bb-087b-4984-b189-f3e1695cdc03",
   "metadata": {},
   "outputs": [
    {
     "data": {
      "text/plain": [
       "array(['80', '90'], dtype='<U21')"
      ]
     },
     "execution_count": 41,
     "metadata": {},
     "output_type": "execute_result"
    }
   ],
   "source": [
    "scores_arr[names_arr == 'kim', 1]"
   ]
  },
  {
   "cell_type": "code",
   "execution_count": 43,
   "id": "5d6bec07-161a-4f2d-8772-203505280966",
   "metadata": {},
   "outputs": [
    {
     "name": "stdout",
     "output_type": "stream",
     "text": [
      "[ True False  True False]\n",
      "[ True False  True False]\n"
     ]
    }
   ],
   "source": [
    "print(names_arr != 'kim')\n",
    "print(~(names_arr == 'kim')) #물결표 안에 있는 데이터 전부 반대로"
   ]
  },
  {
   "cell_type": "code",
   "execution_count": 44,
   "id": "d22edc45-2d9c-45ea-bc34-3af4a1ef863b",
   "metadata": {},
   "outputs": [
    {
     "data": {
      "text/plain": [
       "array([['수학', '70']], dtype='<U21')"
      ]
     },
     "execution_count": 44,
     "metadata": {},
     "output_type": "execute_result"
    }
   ],
   "source": [
    "cond = names_arr == 'hong'\n",
    "scores_arr[cond]"
   ]
  },
  {
   "cell_type": "code",
   "execution_count": 45,
   "id": "f4c756c6-7eec-41b1-a83a-a50f6221b2a0",
   "metadata": {},
   "outputs": [
    {
     "data": {
      "text/plain": [
       "array([['영어', '80'],\n",
       "       ['수학', '100'],\n",
       "       ['수학', '90']], dtype='<U21')"
      ]
     },
     "execution_count": 45,
     "metadata": {},
     "output_type": "execute_result"
    }
   ],
   "source": [
    "cond = (names_arr == 'kim') | (names_arr == 'park')\n",
    "# | : 왼쪽 오른쪽 다 부합한다 기호\n",
    "scores_arr[cond]"
   ]
  },
  {
   "cell_type": "markdown",
   "id": "8c76e7f2-83c1-4f07-b718-65f8b7fea366",
   "metadata": {},
   "source": [
    "## 1.6 팬시 인덱싱(fancy indexing)"
   ]
  },
  {
   "cell_type": "code",
   "execution_count": 49,
   "id": "c030e8e8-82fa-40ec-8b1c-624d3cbaabb3",
   "metadata": {},
   "outputs": [
    {
     "name": "stdout",
     "output_type": "stream",
     "text": [
      "[[ 0  1  2  3]\n",
      " [ 4  5  6  7]\n",
      " [ 8  9 10 11]\n",
      " [12 13 14 15]\n",
      " [16 17 18 19]\n",
      " [20 21 22 23]\n",
      " [24 25 26 27]\n",
      " [28 29 30 31]]\n"
     ]
    }
   ],
   "source": [
    "arr = np.arange(32).reshape(8, 4)\n",
    "print(arr)"
   ]
  },
  {
   "cell_type": "code",
   "execution_count": 50,
   "id": "159d9a36-c503-4911-8c5d-7f546857b1fa",
   "metadata": {},
   "outputs": [
    {
     "name": "stdout",
     "output_type": "stream",
     "text": [
      "[[ 0  1  2  3]\n",
      " [12 13 14 15]\n",
      " [ 8  9 10 11]\n",
      " [ 4  5  6  7]\n",
      " [24 25 26 27]]\n"
     ]
    }
   ],
   "source": [
    "print(arr[[0, 3, 2, 1, 6]])"
   ]
  },
  {
   "cell_type": "code",
   "execution_count": 51,
   "id": "aade3317-cf1e-4ff5-8318-eb7317112658",
   "metadata": {},
   "outputs": [
    {
     "name": "stdout",
     "output_type": "stream",
     "text": [
      "[[20 21 22 23]\n",
      " [28 29 30 31]]\n"
     ]
    }
   ],
   "source": [
    "print(arr[[-3, -1]])"
   ]
  },
  {
   "cell_type": "code",
   "execution_count": 54,
   "id": "5235d721-d195-433b-8e75-c00dccb4f110",
   "metadata": {},
   "outputs": [
    {
     "name": "stdout",
     "output_type": "stream",
     "text": [
      "[[ 0  1  2  3]\n",
      " [ 4 99  6  7]\n",
      " [ 8  9 99 11]\n",
      " [12 13 14 99]\n",
      " [16 17 18 19]\n",
      " [20 21 22 23]\n",
      " [24 25 26 27]\n",
      " [28 29 30 31]]\n"
     ]
    }
   ],
   "source": [
    "arr[[3, 2, 1], [3, 2, 1]] = 99\n",
    "print(arr)"
   ]
  },
  {
   "cell_type": "markdown",
   "id": "1c715e67-e116-4537-93aa-44464f7ab711",
   "metadata": {},
   "source": [
    "## 1.7 전치"
   ]
  },
  {
   "cell_type": "code",
   "execution_count": 56,
   "id": "85310a18-36f6-4318-b838-b212c667aba6",
   "metadata": {},
   "outputs": [
    {
     "name": "stdout",
     "output_type": "stream",
     "text": [
      "[[ 0  1  2  3  4]\n",
      " [ 5  6  7  8  9]\n",
      " [10 11 12 13 14]]\n",
      "[[ 0  5 10]\n",
      " [ 1  6 11]\n",
      " [ 2  7 12]\n",
      " [ 3  8 13]\n",
      " [ 4  9 14]]\n"
     ]
    }
   ],
   "source": [
    "arr = np.arange(15).reshape(3, 5)\n",
    "print(arr)\n",
    "print(arr.T)"
   ]
  },
  {
   "cell_type": "code",
   "execution_count": 57,
   "id": "600b7d84-6396-4206-8b4c-d6b3502193ee",
   "metadata": {},
   "outputs": [
    {
     "data": {
      "text/plain": [
       "array([[ 30,  80, 130],\n",
       "       [ 80, 255, 430],\n",
       "       [130, 430, 730]])"
      ]
     },
     "execution_count": 57,
     "metadata": {},
     "output_type": "execute_result"
    }
   ],
   "source": [
    "np.dot(arr, arr.T)"
   ]
  },
  {
   "cell_type": "markdown",
   "id": "80d10611-5332-4e91-bf4a-f98a492d2847",
   "metadata": {},
   "source": [
    "## 난수 생성"
   ]
  },
  {
   "cell_type": "code",
   "execution_count": 64,
   "id": "881b69c8-d68e-4fb0-bcf6-35b77528c615",
   "metadata": {},
   "outputs": [],
   "source": [
    "sample = np.random.standard_normal(size = (4,4))"
   ]
  },
  {
   "cell_type": "code",
   "execution_count": 65,
   "id": "4a80608e-bf0e-49e7-a9d5-6ff0382fc934",
   "metadata": {},
   "outputs": [
    {
     "name": "stdout",
     "output_type": "stream",
     "text": [
      "[[       nan 0.53051916        nan 0.74599971]\n",
      " [0.32218098 0.61967042 0.71691798 0.69827623]\n",
      " [0.69668455 1.14697402        nan        nan]\n",
      " [       nan 0.86950483        nan        nan]]\n"
     ]
    },
    {
     "name": "stderr",
     "output_type": "stream",
     "text": [
      "C:\\Users\\2-14\\AppData\\Local\\Temp\\ipykernel_9404\\2344619755.py:1: RuntimeWarning: invalid value encountered in sqrt\n",
      "  print(np.sqrt(sample))\n"
     ]
    }
   ],
   "source": [
    "print(np.sqrt(sample))"
   ]
  },
  {
   "cell_type": "code",
   "execution_count": 66,
   "id": "a19c95cd-e021-4ec8-a15e-761b809f6fc0",
   "metadata": {},
   "outputs": [
    {
     "name": "stdout",
     "output_type": "stream",
     "text": [
      "[[2.81627173 0.28145058 1.82845599 0.55651557]\n",
      " [0.10380059 0.38399142 0.51397139 0.4875897 ]\n",
      " [0.48536937 1.31554941 0.56403053 0.20011452]\n",
      " [0.32377863 0.75603866 0.66410808 0.8512405 ]]\n"
     ]
    }
   ],
   "source": [
    "print(np.abs(sample))"
   ]
  },
  {
   "cell_type": "code",
   "execution_count": 67,
   "id": "0f9de834-1d8d-428d-89bb-2eae845e4f81",
   "metadata": {},
   "outputs": [
    {
     "name": "stderr",
     "output_type": "stream",
     "text": [
      "C:\\Users\\2-14\\AppData\\Local\\Temp\\ipykernel_9404\\619758985.py:1: RuntimeWarning: invalid value encountered in sqrt\n",
      "  np.isnan(np.sqrt(sample))\n"
     ]
    },
    {
     "data": {
      "text/plain": [
       "array([[ True, False,  True, False],\n",
       "       [False, False, False, False],\n",
       "       [False, False,  True,  True],\n",
       "       [ True, False,  True,  True]])"
      ]
     },
     "execution_count": 67,
     "metadata": {},
     "output_type": "execute_result"
    }
   ],
   "source": [
    "np.isnan(np.sqrt(sample))"
   ]
  },
  {
   "cell_type": "code",
   "execution_count": 68,
   "id": "55735bc6-8304-4deb-a288-2fdf84aa4de4",
   "metadata": {},
   "outputs": [],
   "source": [
    "import random"
   ]
  },
  {
   "cell_type": "code",
   "execution_count": 73,
   "id": "6b5ed4ad-f6d6-4c45-aad6-132c29708d29",
   "metadata": {},
   "outputs": [
    {
     "name": "stdout",
     "output_type": "stream",
     "text": [
      "[  0   1   0 ... -34 -35 -36]\n",
      "[0, 1, 0, -1, 0, -1, -2, -3, -2, -3, -4, -3, -2, -3, -2, -3, -4, -5, -4, -3, -2, -1, 0, -1, 0, -1, 0, -1, -2, -1, -2, -1, 0, -1, -2, -1, 0, -1, -2, -3, -2, -3, -4, -5, -6, -5, -6, -7, -6, -5, -4, -3, -4, -5, -4, -3, -2, -3, -2, -3, -2, -3, -2, -3, -4, -5, -6, -5, -6, -7, -6, -7, -6, -7, -6, -7, -6, -5, -4, -5, -6, -5, -6, -7, -8, -7, -6, -7, -6, -5, -6, -5, -6, -5, -6, -7, -6, -7, -8, -9, -8, -9, -10, -11, -10, -11, -12, -11, -10, -11, -10, -11, -12, -13, -12, -13, -12, -11, -12, -13, -14, -13, -14, -15, -14, -13, -14, -13, -12, -11, -12, -13, -14, -15, -16, -15, -14, -13, -14, -15, -16, -15, -16, -17, -16, -17, -18, -17, -18, -19, -18, -17, -18, -19, -20, -21, -22, -23, -24, -25, -24, -25, -26, -25, -26, -27, -28, -29, -28, -27, -26, -27, -26, -27, -26, -25, -24, -23, -24, -23, -22, -21, -20, -19, -20, -21, -22, -23, -22, -23, -22, -23, -22, -21, -20, -19, -20, -19, -20, -19, -18, -17, -18, -17, -18, -17, -16, -15, -16, -15, -16, -15, -14, -13, -14, -15, -14, -13, -14, -13, -14, -15, -16, -17, -16, -17, -16, -17, -16, -15, -14, -15, -16, -15, -14, -13, -14, -15, -16, -17, -18, -17, -16, -15, -16, -15, -14, -13, -14, -13, -12, -11, -10, -11, -10, -9, -10, -11, -10, -11, -12, -13, -12, -13, -14, -13, -12, -13, -12, -11, -12, -13, -14, -15, -14, -13, -12, -13, -14, -15, -16, -15, -16, -17, -18, -19, -20, -19, -20, -19, -18, -17, -18, -17, -18, -17, -16, -15, -16, -17, -16, -17, -18, -19, -20, -19, -18, -17, -16, -15, -16, -15, -16, -17, -18, -17, -18, -17, -18, -17, -18, -19, -20, -19, -20, -21, -20, -21, -20, -19, -20, -19, -20, -19, -18, -17, -18, -17, -18, -19, -18, -19, -20, -21, -22, -21, -20, -19, -20, -21, -22, -23, -24, -23, -22, -23, -22, -23, -24, -25, -24, -25, -24, -23, -24, -23, -22, -23, -24, -25, -24, -25, -24, -23, -24, -25, -26, -27, -28, -27, -28, -27, -28, -27, -26, -27, -26, -25, -26, -27, -26, -25, -26, -25, -26, -27, -28, -29, -30, -31, -32, -31, -30, -31, -30, -31, -30, -29, -28, -27, -28, -29, -28, -27, -26, -27, -26, -25, -26, -25, -24, -25, -24, -23, -22, -21, -22, -21, -20, -21, -20, -19, -20, -19, -20, -19, -20, -19, -18, -19, -20, -19, -20, -21, -22, -23, -22, -21, -20, -19, -20, -21, -20, -19, -20, -19, -20, -21, -22, -23, -24, -25, -26, -25, -26, -27, -28, -27, -26, -27, -28, -27, -28, -29, -28, -27, -26, -27, -26, -27, -28, -29, -28, -27, -28, -29, -28, -29, -30, -31, -32, -31, -32, -33, -32, -31, -32, -31, -30, -29, -30, -31, -32, -33, -32, -31, -30, -31, -30, -31, -32, -33, -34, -33, -34, -33, -32, -33, -34, -35, -34, -33, -32, -31, -30, -31, -30, -31, -30, -31, -32, -31, -30, -31, -32, -33, -32, -31, -32, -31, -30, -31, -30, -29, -30, -31, -30, -29, -30, -31, -32, -33, -34, -35, -36, -37, -36, -37, -36, -37, -36, -35, -34, -33, -32, -33, -34, -35, -36, -37, -38, -37, -38, -37, -38, -37, -36, -37, -36, -37, -36, -37, -36, -37, -36, -35, -34, -33, -32, -31, -32, -33, -34, -35, -36, -37, -38, -37, -36, -37, -36, -37, -36, -35, -36, -37, -38, -39, -38, -37, -38, -39, -38, -37, -36, -35, -34, -35, -36, -35, -36, -37, -38, -37, -36, -35, -34, -35, -36, -35, -34, -33, -34, -35, -36, -35, -34, -33, -34, -33, -32, -31, -30, -31, -30, -29, -28, -29, -28, -27, -28, -27, -26, -27, -28, -29, -28, -27, -26, -25, -24, -23, -22, -21, -20, -19, -18, -19, -18, -19, -20, -21, -20, -21, -20, -21, -22, -23, -24, -23, -24, -23, -22, -23, -22, -23, -22, -21, -20, -21, -22, -23, -22, -23, -22, -21, -22, -23, -22, -23, -22, -21, -22, -21, -20, -19, -18, -19, -20, -19, -20, -21, -22, -21, -22, -23, -22, -21, -20, -19, -18, -19, -18, -17, -18, -17, -18, -17, -18, -17, -18, -19, -20, -19, -20, -21, -22, -21, -20, -21, -22, -21, -20, -21, -22, -21, -22, -23, -24, -23, -24, -25, -24, -23, -24, -25, -26, -25, -26, -25, -24, -25, -24, -25, -24, -23, -24, -25, -26, -25, -26, -25, -26, -27, -28, -29, -30, -29, -30, -31, -30, -31, -32, -31, -30, -29, -28, -29, -28, -27, -28, -27, -28, -27, -26, -25, -26, -25, -24, -25, -24, -23, -24, -25, -26, -27, -28, -29, -30, -29, -28, -29, -28, -29, -28, -27, -28, -29, -28, -29, -30, -29, -30, -31, -32, -33, -34, -33, -32, -33, -34, -35, -34, -35, -36, -37, -38, -39, -38, -37, -38, -39, -40, -41, -42, -41, -40, -41, -40, -41, -42, -43, -44, -45, -44, -43, -42, -41, -42, -41, -42, -41, -40, -39, -38, -37, -38, -37, -38, -37, -36, -35, -36, -37, -38, -39, -40, -39, -38, -37, -36, -35, -36, -35, -34, -33, -34, -35, -34, -35, -34, -35, -36, -35, -36, -35, -34, -35, -34, -35, -34, -33, -32, -31, -32, -31, -30, -29, -28, -29, -28, -27, -28, -27, -28, -27, -26, -25, -24, -25, -26, -27, -26, -27, -26, -25, -24, -25, -26, -25, -24, -23, -24, -25, -26, -27, -26, -27, -26, -25, -24, -25, -24, -23, -24, -25, -26, -27, -26, -25, -26, -27, -28, -29, -28, -27, -28, -29, -28, -29, -30, -29, -28, -27, -28, -27, -28, -29, -30, -29, -28, -29, -28, -29, -28, -29, -28, -29, -28, -29, -30, -31, -30, -31, -30, -31, -32, -33, -32, -31, -32, -33, -32, -33, -32, -33, -34, -33, -34, -35, -36]\n"
     ]
    }
   ],
   "source": [
    "position = 0\n",
    "walk = [position]\n",
    "\n",
    "nsteps = 1000\n",
    "for _ in range(nsteps):\n",
    "    step = 1 if random.randint(0, 1) else -1\n",
    "    position += step\n",
    "    walk.append(position)\n",
    "\n",
    "walk_arr = np.array(walk)\n",
    "print(walk_arr)\n",
    "print(walk)"
   ]
  },
  {
   "cell_type": "code",
   "execution_count": 77,
   "id": "b1f24eb9-0e22-4e65-ba30-d65f68e5f3f8",
   "metadata": {},
   "outputs": [
    {
     "data": {
      "text/plain": [
       "<Figure size 640x480 with 0 Axes>"
      ]
     },
     "execution_count": 77,
     "metadata": {},
     "output_type": "execute_result"
    },
    {
     "data": {
      "text/plain": [
       "<Figure size 640x480 with 0 Axes>"
      ]
     },
     "metadata": {},
     "output_type": "display_data"
    }
   ],
   "source": [
    "import matplotlib.pyplot as plt\n",
    "plt.figure()"
   ]
  },
  {
   "cell_type": "code",
   "execution_count": 79,
   "id": "e934909a-3e01-44fa-8b3f-d9e622340729",
   "metadata": {},
   "outputs": [
    {
     "data": {
      "image/png": "[encoded data removed]",
      "text/plain": [
       "<Figure size 640x480 with 1 Axes>"
      ]
     },
     "metadata": {},
     "output_type": "display_data"
    }
   ],
   "source": [
    "plt.plot(walk_arr[:100])\n",
    "plt.show()"
   ]
  },
  {
   "cell_type": "code",
   "execution_count": 88,
   "id": "c50a8c66-362e-4630-b309-419944db5751",
   "metadata": {},
   "outputs": [
    {
     "name": "stdout",
     "output_type": "stream",
     "text": [
      "1\n",
      "-9\n",
      "0\n"
     ]
    }
   ],
   "source": [
    "print(walk_arr[:100].max())\n",
    "print(walk_arr[:100].min())\n",
    "print((walk_arr[:100] >= 5).argmax())"
   ]
  },
  {
   "cell_type": "code",
   "execution_count": null,
   "id": "63f696ec-77c6-4c93-8321-5a3f0fe5de1e",
   "metadata": {},
   "outputs": [],
   "source": []
  }
 ],
 "metadata": {
  "kernelspec": {
   "display_name": "Python 3 (ipykernel)",
   "language": "python",
   "name": "python3"
  },
  "language_info": {
   "codemirror_mode": {
    "name": "ipython",
    "version": 3
   },
   "file_extension": ".py",
   "mimetype": "text/x-python",
   "name": "python",
   "nbconvert_exporter": "python",
   "pygments_lexer": "ipython3",
   "version": "3.12.4"
  }
 },
 "nbformat": 4,
 "nbformat_minor": 5
}
